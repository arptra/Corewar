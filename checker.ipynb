{
 "cells": [
  {
   "cell_type": "code",
   "execution_count": 1,
   "metadata": {
    "tags": []
   },
   "outputs": [
    {
     "output_type": "stream",
     "name": "stderr",
     "text": "INFO:root:darwin\n"
    }
   ],
   "source": [
    "#!/usr/bin/env python\n",
    "# coding: utf-8\n",
    "\n",
    "# 0. Libraries import\n",
    "import warnings\n",
    "warnings.filterwarnings(action='ignore')\n",
    "\n",
    "import logging\n",
    "import subprocess\n",
    "logging.getLogger().setLevel(logging.INFO)\n",
    "\n",
    "def run_cmd(cmd):\n",
    "    logging.getLogger().setLevel(logging.INFO)\n",
    "    logging.info(\"%s\"%cmd)\n",
    "    cmd = cmd.split()\n",
    "    p = subprocess.run(cmd,\n",
    "        stdout=subprocess.PIPE,\n",
    "        stderr=subprocess.PIPE)\n",
    "    # if p.stdout: logging.info(\"stdout\\n%s\"%bytes.decode(p.stdout))\n",
    "    if p.stderr: logging.warn(\"stderr\\n%s\"%bytes.decode(p.stderr))\n",
    "    return bytes.decode(p.stdout)\n",
    "\n",
    "import os\n",
    "\n",
    "try:import numpy\n",
    "except:os.system(\"pip3 install -q numpy --user\")\n",
    "import io\n",
    "import sys\n",
    "\n",
    "logging.info(\"%s\"%(sys.platform))"
   ]
  },
  {
   "cell_type": "code",
   "execution_count": 138,
   "metadata": {},
   "outputs": [],
   "source": [
    "from colors import *"
   ]
  },
  {
   "cell_type": "code",
   "execution_count": 2,
   "metadata": {
    "tags": []
   },
   "outputs": [
    {
     "output_type": "stream",
     "name": "stderr",
     "text": "INFO:root:will call a 'make' command\nINFO:root:make re\nWARNING:root:stderr\ninit.c:34:8: warning: comparison of integers of different signs: 'int' and 'unsigned int' [-Wsign-compare]\n        if (i != vm->current->cs)\n            ~ ^  ~~~~~~~~~~~~~~~\n1 warning generated.\nerror_handler.c:3:23: warning: unused parameter 'error' [-Wunused-parameter]\nint error_handler(int error, t_vm *vm)\n                      ^\nerror_handler.c:3:36: warning: unused parameter 'vm' [-Wunused-parameter]\nint error_handler(int error, t_vm *vm)\n                                   ^\n2 warnings generated.\nutils.c:3:42: warning: unused parameter 'vm' [-Wunused-parameter]\nvoid    show_byte(unsigned char byte, t_vm *vm)\n                                            ^\nutils.c:20:26: warning: unused parameter 'byte' [-Wunused-parameter]\nvoid    nthng(unsigned char byte, t_vm *vm)\n                            ^\nutils.c:20:38: warning: unused parameter 'vm' [-Wunused-parameter]\nvoid    nthng(unsigned char byte, t_vm *vm)\n                                        ^\n3 warnings generated.\n\n"
    }
   ],
   "source": [
    "if 'Makefile' in set(os.listdir('.')):\n",
    "    logging.info(\"will call a \\'make\\' command\")\n",
    "    run_cmd(\"make re\")"
   ]
  },
  {
   "cell_type": "code",
   "execution_count": 129,
   "metadata": {
    "tags": []
   },
   "outputs": [
    {
     "output_type": "stream",
     "name": "stderr",
     "text": "INFO:root:path to given corewar executable:./mac-os-vm-champ/corewar\n"
    }
   ],
   "source": [
    "exe_corewar_sys = './mac-os-vm-champ/corewar' if str(sys.platform).lower() == 'darwin' else './vm-champ-linux/corewar'\n",
    "logging.info(\"path to given corewar executable:%s\"%(exe_corewar_sys))\n"
   ]
  },
  {
   "cell_type": "code",
   "execution_count": 130,
   "metadata": {
    "tags": []
   },
   "outputs": [
    {
     "output_type": "stream",
     "name": "stderr",
     "text": "INFO:root:path to given asm executable:./mac-os-vm-champ/asm\n"
    }
   ],
   "source": [
    "exe_asm_sys = './mac-os-vm-champ/asm' if str(sys.platform).lower() == 'darwin' else './vm-champ-linux/asm'\n",
    "logging.info(\"path to given asm executable:%s\"%(exe_asm_sys))"
   ]
  },
  {
   "cell_type": "code",
   "execution_count": 131,
   "metadata": {
    "tags": []
   },
   "outputs": [
    {
     "output_type": "stream",
     "name": "stderr",
     "text": "INFO:root:path to our corewar executable:./corewar\n"
    }
   ],
   "source": [
    "exe_corewar_our='./corewar'\n",
    "logging.info(\"path to our corewar executable:%s\"%(exe_corewar_our))"
   ]
  },
  {
   "cell_type": "code",
   "execution_count": 132,
   "metadata": {
    "tags": []
   },
   "outputs": [
    {
     "output_type": "stream",
     "name": "stderr",
     "text": "INFO:root:path to our asm executable:./asm\n"
    }
   ],
   "source": [
    "exe_asm_our='./asm'\n",
    "logging.info(\"path to our asm executable:%s\"%(exe_asm_our))"
   ]
  },
  {
   "cell_type": "code",
   "execution_count": 133,
   "metadata": {
    "tags": []
   },
   "outputs": [
    {
     "output_type": "stream",
     "name": "stderr",
     "text": "INFO:root:./mac-os-vm-champ/corewar -d 0 mac-os-vm-champ/batman.cor mac-os-vm-champ/robin.cor\n"
    }
   ],
   "source": [
    "cmd2 = \" \".join( [\\\n",
    "    exe_corewar_sys,\\\n",
    "\t\t\t\t\t\"-d\",\n",
    "\t\t\t\t\t\"0\",\n",
    "\t\t\t\t\t\"mac-os-vm-champ/batman.cor\",\n",
    "\t\t\t\t\t\"mac-os-vm-champ/robin.cor\",\n",
    "\n",
    "])\n",
    "stdout_sys = run_cmd(cmd2).replace(\"\\n\",\":\").replace(\" \",\"\").split(\":\")[4::2]"
   ]
  },
  {
   "cell_type": "code",
   "execution_count": 134,
   "metadata": {
    "tags": []
   },
   "outputs": [
    {
     "output_type": "execute_result",
     "data": {
      "text/plain": "['0b68010007000101000000000290000000000209ffed000000000000000000000000000000000000000000000000000000000000000000000000000000000000',\n '00000000000000000000000000000000000000000000000000000000000000000000000000000000000000000000000000000000000000000000000000000000',\n '00000000000000000000000000000000000000000000000000000000000000000000000000000000000000000000000000000000000000000000000000000000',\n '00000000000000000000000000000000000000000000000000000000000000000000000000000000000000000000000000000000000000000000000000000000',\n '00000000000000000000000000000000000000000000000000000000000000000000000000000000000000000000000000000000000000000000000000000000',\n '00000000000000000000000000000000000000000000000000000000000000000000000000000000000000000000000000000000000000000000000000000000',\n '00000000000000000000000000000000000000000000000000000000000000000000000000000000000000000000000000000000000000000000000000000000',\n '00000000000000000000000000000000000000000000000000000000000000000000000000000000000000000000000000000000000000000000000000000000',\n '00000000000000000000000000000000000000000000000000000000000000000000000000000000000000000000000000000000000000000000000000000000',\n '00000000000000000000000000000000000000000000000000000000000000000000000000000000000000000000000000000000000000000000000000000000',\n '00000000000000000000000000000000000000000000000000000000000000000000000000000000000000000000000000000000000000000000000000000000',\n '00000000000000000000000000000000000000000000000000000000000000000000000000000000000000000000000000000000000000000000000000000000',\n '00000000000000000000000000000000000000000000000000000000000000000000000000000000000000000000000000000000000000000000000000000000',\n '00000000000000000000000000000000000000000000000000000000000000000000000000000000000000000000000000000000000000000000000000000000',\n '00000000000000000000000000000000000000000000000000000000000000000000000000000000000000000000000000000000000000000000000000000000',\n '00000000000000000000000000000000000000000000000000000000000000000000000000000000000000000000000000000000000000000000000000000000',\n '00000000000000000000000000000000000000000000000000000000000000000000000000000000000000000000000000000000000000000000000000000000',\n '00000000000000000000000000000000000000000000000000000000000000000000000000000000000000000000000000000000000000000000000000000000',\n '00000000000000000000000000000000000000000000000000000000000000000000000000000000000000000000000000000000000000000000000000000000',\n '00000000000000000000000000000000000000000000000000000000000000000000000000000000000000000000000000000000000000000000000000000000',\n '00000000000000000000000000000000000000000000000000000000000000000000000000000000000000000000000000000000000000000000000000000000',\n '00000000000000000000000000000000000000000000000000000000000000000000000000000000000000000000000000000000000000000000000000000000',\n '00000000000000000000000000000000000000000000000000000000000000000000000000000000000000000000000000000000000000000000000000000000',\n '00000000000000000000000000000000000000000000000000000000000000000000000000000000000000000000000000000000000000000000000000000000',\n '00000000000000000000000000000000000000000000000000000000000000000000000000000000000000000000000000000000000000000000000000000000',\n '00000000000000000000000000000000000000000000000000000000000000000000000000000000000000000000000000000000000000000000000000000000',\n '00000000000000000000000000000000000000000000000000000000000000000000000000000000000000000000000000000000000000000000000000000000',\n '00000000000000000000000000000000000000000000000000000000000000000000000000000000000000000000000000000000000000000000000000000000',\n '00000000000000000000000000000000000000000000000000000000000000000000000000000000000000000000000000000000000000000000000000000000',\n '00000000000000000000000000000000000000000000000000000000000000000000000000000000000000000000000000000000000000000000000000000000',\n '00000000000000000000000000000000000000000000000000000000000000000000000000000000000000000000000000000000000000000000000000000000',\n '00000000000000000000000000000000000000000000000000000000000000000000000000000000000000000000000000000000000000000000000000000000',\n '0b68010007000101000000000290000000000209ffed000000000000000000000000000000000000000000000000000000000000000000000000000000000000',\n '00000000000000000000000000000000000000000000000000000000000000000000000000000000000000000000000000000000000000000000000000000000',\n '00000000000000000000000000000000000000000000000000000000000000000000000000000000000000000000000000000000000000000000000000000000',\n '00000000000000000000000000000000000000000000000000000000000000000000000000000000000000000000000000000000000000000000000000000000',\n '00000000000000000000000000000000000000000000000000000000000000000000000000000000000000000000000000000000000000000000000000000000',\n '00000000000000000000000000000000000000000000000000000000000000000000000000000000000000000000000000000000000000000000000000000000',\n '00000000000000000000000000000000000000000000000000000000000000000000000000000000000000000000000000000000000000000000000000000000',\n '00000000000000000000000000000000000000000000000000000000000000000000000000000000000000000000000000000000000000000000000000000000',\n '00000000000000000000000000000000000000000000000000000000000000000000000000000000000000000000000000000000000000000000000000000000',\n '00000000000000000000000000000000000000000000000000000000000000000000000000000000000000000000000000000000000000000000000000000000',\n '00000000000000000000000000000000000000000000000000000000000000000000000000000000000000000000000000000000000000000000000000000000',\n '00000000000000000000000000000000000000000000000000000000000000000000000000000000000000000000000000000000000000000000000000000000',\n '00000000000000000000000000000000000000000000000000000000000000000000000000000000000000000000000000000000000000000000000000000000',\n '00000000000000000000000000000000000000000000000000000000000000000000000000000000000000000000000000000000000000000000000000000000',\n '00000000000000000000000000000000000000000000000000000000000000000000000000000000000000000000000000000000000000000000000000000000',\n '00000000000000000000000000000000000000000000000000000000000000000000000000000000000000000000000000000000000000000000000000000000',\n '00000000000000000000000000000000000000000000000000000000000000000000000000000000000000000000000000000000000000000000000000000000',\n '00000000000000000000000000000000000000000000000000000000000000000000000000000000000000000000000000000000000000000000000000000000',\n '00000000000000000000000000000000000000000000000000000000000000000000000000000000000000000000000000000000000000000000000000000000',\n '00000000000000000000000000000000000000000000000000000000000000000000000000000000000000000000000000000000000000000000000000000000',\n '00000000000000000000000000000000000000000000000000000000000000000000000000000000000000000000000000000000000000000000000000000000',\n '00000000000000000000000000000000000000000000000000000000000000000000000000000000000000000000000000000000000000000000000000000000',\n '00000000000000000000000000000000000000000000000000000000000000000000000000000000000000000000000000000000000000000000000000000000',\n '00000000000000000000000000000000000000000000000000000000000000000000000000000000000000000000000000000000000000000000000000000000',\n '00000000000000000000000000000000000000000000000000000000000000000000000000000000000000000000000000000000000000000000000000000000',\n '00000000000000000000000000000000000000000000000000000000000000000000000000000000000000000000000000000000000000000000000000000000',\n '00000000000000000000000000000000000000000000000000000000000000000000000000000000000000000000000000000000000000000000000000000000',\n '00000000000000000000000000000000000000000000000000000000000000000000000000000000000000000000000000000000000000000000000000000000',\n '00000000000000000000000000000000000000000000000000000000000000000000000000000000000000000000000000000000000000000000000000000000',\n '00000000000000000000000000000000000000000000000000000000000000000000000000000000000000000000000000000000000000000000000000000000',\n '00000000000000000000000000000000000000000000000000000000000000000000000000000000000000000000000000000000000000000000000000000000',\n '00000000000000000000000000000000000000000000000000000000000000000000000000000000000000000000000000000000000000000000000000000000']"
     },
     "metadata": {},
     "execution_count": 134
    }
   ],
   "source": [
    "((stdout_sys))\n"
   ]
  },
  {
   "cell_type": "code",
   "execution_count": 135,
   "metadata": {
    "tags": []
   },
   "outputs": [
    {
     "output_type": "stream",
     "name": "stderr",
     "text": "INFO:root:./corewar -n 1 mac-os-vm-champ/batman.cor -n 2 mac-os-vm-champ/robin.cor\n"
    }
   ],
   "source": [
    "cmd1 = \" \".join( [\\\n",
    "    exe_corewar_our,\\\n",
    "\t\t\t\t\t\"-n\",\n",
    "\t\t\t\t\t\"1\",\n",
    "\t\t\t\t\t\"mac-os-vm-champ/batman.cor\",\n",
    "\t\t\t\t\t\"-n\",\n",
    "\t\t\t\t\t\"2\",\n",
    "\t\t\t\t\t\"mac-os-vm-champ/robin.cor\",\n",
    "\n",
    "])\n",
    "stdout_our = run_cmd(cmd1).split(\"\\n\")"
   ]
  },
  {
   "cell_type": "code",
   "execution_count": 159,
   "metadata": {},
   "outputs": [],
   "source": [
    "error = list(stdout_our[10])\n",
    "error[7] = '-'\n",
    "stdout_our[10] = \"\".join(error)"
   ]
  },
  {
   "cell_type": "code",
   "execution_count": 169,
   "metadata": {},
   "outputs": [],
   "source": [
    "def prinf_diff(string_number,our,sys):\n",
    "    if our==sys:\n",
    "        logging.info(\"Strings number %i equals\"%(string_number))\n",
    "    else:\n",
    "        logging.warn(\"Strings number %i NOT equals\"%(string_number))\n",
    "        diff_our= \"\".join([(our1) if our1==sys1 else (CRED+our1+CEND) for i,(our1,sys1) in enumerate(zip(our,sys))])\n",
    "        diff_sys= \"\".join([\" \" if our1==sys1 else (CGREEN+sys1+CEND) for i,(our1,sys1) in enumerate(zip(our,sys))])\n",
    "        logging.warn(\"our:%s\"%diff_our)\n",
    "        logging.warn(\"sys:%s\"%diff_sys)\n",
    "    return None    "
   ]
  },
  {
   "cell_type": "code",
   "execution_count": 170,
   "metadata": {
    "tags": []
   },
   "outputs": [
    {
     "output_type": "stream",
     "name": "stderr",
     "text": "INFO:root:Strings number 0 equals\nINFO:root:Strings number 1 equals\nINFO:root:Strings number 2 equals\nINFO:root:Strings number 3 equals\nINFO:root:Strings number 4 equals\nINFO:root:Strings number 5 equals\nINFO:root:Strings number 6 equals\nINFO:root:Strings number 7 equals\nINFO:root:Strings number 8 equals\nINFO:root:Strings number 9 equals\nWARNING:root:Strings number 10 NOT equals\nWARNING:root:our:0000000\u001b[31m-\u001b[0m000000000000000000000000000000000000000000000000000000000000000000000000000000000000000000000000000000000000000000000000\nWARNING:root:sys:       \u001b[32m0\u001b[0m                                                                                                                        \nINFO:root:Strings number 11 equals\nINFO:root:Strings number 12 equals\nINFO:root:Strings number 13 equals\nINFO:root:Strings number 14 equals\nINFO:root:Strings number 15 equals\nINFO:root:Strings number 16 equals\nINFO:root:Strings number 17 equals\nINFO:root:Strings number 18 equals\nINFO:root:Strings number 19 equals\nINFO:root:Strings number 20 equals\nINFO:root:Strings number 21 equals\nINFO:root:Strings number 22 equals\nINFO:root:Strings number 23 equals\nINFO:root:Strings number 24 equals\nINFO:root:Strings number 25 equals\nINFO:root:Strings number 26 equals\nINFO:root:Strings number 27 equals\nINFO:root:Strings number 28 equals\nINFO:root:Strings number 29 equals\nINFO:root:Strings number 30 equals\nINFO:root:Strings number 31 equals\nINFO:root:Strings number 32 equals\nINFO:root:Strings number 33 equals\nINFO:root:Strings number 34 equals\nINFO:root:Strings number 35 equals\nINFO:root:Strings number 36 equals\nINFO:root:Strings number 37 equals\nINFO:root:Strings number 38 equals\nINFO:root:Strings number 39 equals\nINFO:root:Strings number 40 equals\nINFO:root:Strings number 41 equals\nINFO:root:Strings number 42 equals\nINFO:root:Strings number 43 equals\nINFO:root:Strings number 44 equals\nINFO:root:Strings number 45 equals\nINFO:root:Strings number 46 equals\nINFO:root:Strings number 47 equals\nINFO:root:Strings number 48 equals\nINFO:root:Strings number 49 equals\nINFO:root:Strings number 50 equals\nINFO:root:Strings number 51 equals\nINFO:root:Strings number 52 equals\nINFO:root:Strings number 53 equals\nINFO:root:Strings number 54 equals\nINFO:root:Strings number 55 equals\nINFO:root:Strings number 56 equals\nINFO:root:Strings number 57 equals\nINFO:root:Strings number 58 equals\nINFO:root:Strings number 59 equals\nINFO:root:Strings number 60 equals\nINFO:root:Strings number 61 equals\nINFO:root:Strings number 62 equals\nINFO:root:Strings number 63 equals\n"
    }
   ],
   "source": [
    "[prinf_diff(string_number,our,sys) for string_number,(our, sys) in enumerate(zip(stdout_our,stdout_sys))];"
   ]
  },
  {
   "cell_type": "code",
   "execution_count": null,
   "metadata": {
    "tags": []
   },
   "outputs": [],
   "source": [
    "run_cmd(\"make fclean\")"
   ]
  }
 ],
 "metadata": {
  "language_info": {
   "codemirror_mode": {
    "name": "ipython",
    "version": 3
   },
   "file_extension": ".py",
   "mimetype": "text/x-python",
   "name": "python",
   "nbconvert_exporter": "python",
   "pygments_lexer": "ipython3",
   "version": "3.7.3-final"
  },
  "orig_nbformat": 2,
  "kernelspec": {
   "name": "python_defaultSpec_1593858814494",
   "display_name": "Python 3.7.3 64-bit"
  }
 },
 "nbformat": 4,
 "nbformat_minor": 2
}